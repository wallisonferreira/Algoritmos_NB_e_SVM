{
  "nbformat": 4,
  "nbformat_minor": 0,
  "metadata": {
    "colab": {
      "provenance": [],
      "mount_file_id": "1grb2kmrN6wTtW1k-Cl6lKTS9cq4YnQtY",
      "authorship_tag": "ABX9TyPXa6XnR81KYbelZMq/u+Fs",
      "include_colab_link": true
    },
    "kernelspec": {
      "name": "python3",
      "display_name": "Python 3"
    },
    "language_info": {
      "name": "python"
    }
  },
  "cells": [
    {
      "cell_type": "markdown",
      "metadata": {
        "id": "view-in-github",
        "colab_type": "text"
      },
      "source": [
        "<a href=\"https://colab.research.google.com/github/wallisonferreira/Algoritmos_NB_e_SVM/blob/main/algoritmos_ML.ipynb\" target=\"_parent\"><img src=\"https://colab.research.google.com/assets/colab-badge.svg\" alt=\"Open In Colab\"/></a>"
      ]
    },
    {
      "cell_type": "markdown",
      "source": [
        "### Instalação de módulos não-padrão"
      ],
      "metadata": {
        "id": "-LfUL14GVdDO"
      }
    },
    {
      "cell_type": "code",
      "execution_count": null,
      "metadata": {
        "id": "qsH9Vf3lUX0i"
      },
      "outputs": [],
      "source": [
        "!pip install csv\n",
        "!pip install snscrape\n",
        "\n",
        "!pip install spacy\n",
        "!python -m spacy download pt_core_news_sm"
      ]
    },
    {
      "cell_type": "code",
      "source": [
        "!pip install deep_translator"
      ],
      "metadata": {
        "id": "zYRTKyYpw2O5"
      },
      "execution_count": null,
      "outputs": []
    },
    {
      "cell_type": "markdown",
      "source": [
        "### Importação de módulos"
      ],
      "metadata": {
        "id": "AVYeICGfVjkd"
      }
    },
    {
      "cell_type": "code",
      "source": [
        "import pandas as pd\n",
        "import numpy as np\n",
        "import csv\n",
        "import snscrape.modules.twitter as sntwitter\n",
        "import uuid"
      ],
      "metadata": {
        "id": "B9rfMvKrUesu"
      },
      "execution_count": 4,
      "outputs": []
    },
    {
      "cell_type": "markdown",
      "source": [
        "# Coleta de dados"
      ],
      "metadata": {
        "id": "HSbz5rOPcsYg"
      }
    },
    {
      "cell_type": "markdown",
      "source": [
        "### Declara uma função para coletar tweets\n",
        "\n",
        "<blockquote><p>collect_tweets(número de tweets, termo a ser pesquisado, data inicial, data final)\n",
        "</blockquote>\n",
        "\n",
        "#### Exemplo:\n",
        "\n",
        "* numberOfTweets=100, \n",
        "* term='Covid-19', \n",
        "* since='2022-12-01', \n",
        "* until='2022-12-02'"
      ],
      "metadata": {
        "id": "B4CvUhyFVyAf"
      }
    },
    {
      "cell_type": "code",
      "source": [
        "def collect_tweets(\n",
        "    numberOfTweets=100, \n",
        "    term='', \n",
        "    since='2022-12-01', \n",
        "    until='2022-12-02',\n",
        "    filename=''):\n",
        "\n",
        "    # cria um arquivo de tabulação csv\n",
        "    if (filename == ''):\n",
        "        # cria um identificador único\n",
        "        # para evitar sobrescrição de arquivo\n",
        "        uuidOne = str(uuid.uuid1())\n",
        "        uuidOne = uuidOne[2:6] + uuidOne[7:8]\n",
        "        csvFile = open('dataset_{}.csv'.format(uuidOne), 'a')\n",
        "    else:\n",
        "        uuidOne = str(uuid.uuid1())\n",
        "        uuidOne = uuidOne[2:6] + uuidOne[7:8]\n",
        "        csvFile = open('{}_{}.csv'.format(filename, uuidOne), 'a')\n",
        "    \n",
        "    csvWriter = csv.writer(csvFile)\n",
        "\n",
        "    # define um array de colunas para o cabeçalho\n",
        "    cols=[\n",
        "        'datetime',\n",
        "        'tweet_id',\n",
        "        'text',\n",
        "        'language',\n",
        "        'created_at'\n",
        "    ]\n",
        "\n",
        "    # cria um cabeçalho no arquivo\n",
        "    csvWriter.writerow(cols)\n",
        "\n",
        "    # define o máximo de tweets a ser coletado\n",
        "    maxTweets = numberOfTweets\n",
        "\n",
        "    # itera sobre cada tweet e insere no arquivo\n",
        "    for i,tweet in enumerate(\n",
        "        sntwitter.TwitterSearchScraper(\n",
        "            '{} since:{} until:{}'.format(term, since, until)\n",
        "        ).get_items()) :\n",
        "            if i > maxTweets :\n",
        "                break\n",
        "            \n",
        "            model = [\n",
        "                tweet.date, \n",
        "                tweet.id, \n",
        "                tweet.content.encode('utf-8'), \n",
        "                tweet.lang,\n",
        "                tweet.user.created,\n",
        "            ]\n",
        "\n",
        "            print(tweet.date, '-', i , ' collected')\n",
        "            csvWriter.writerow(model)"
      ],
      "metadata": {
        "id": "dDpAN0nJVB-2"
      },
      "execution_count": 7,
      "outputs": []
    },
    {
      "cell_type": "markdown",
      "source": [
        "### Exemplo de coleta de tweets"
      ],
      "metadata": {
        "id": "j47CI3HXcYJw"
      }
    },
    {
      "cell_type": "code",
      "source": [
        "collect_tweets(1000, 'metaverso', filename=\"metaverso\")"
      ],
      "metadata": {
        "id": "zkMNmq44VCr-"
      },
      "execution_count": null,
      "outputs": []
    },
    {
      "cell_type": "markdown",
      "source": [
        "# Pré-processamento"
      ],
      "metadata": {
        "id": "gNKomONLclw_"
      }
    },
    {
      "cell_type": "markdown",
      "source": [
        "### importa os dados coletados"
      ],
      "metadata": {
        "id": "dL3ZkG76c1SX"
      }
    },
    {
      "cell_type": "code",
      "source": [
        "# importa e atribui à variável df\n",
        "df = pd.read_csv('/content/drive/MyDrive/Trabalho Mestrado Python/metaverso_65fa0.csv')\n",
        "\n",
        "# mostra os 5 primeiros\n",
        "df.head()"
      ],
      "metadata": {
        "colab": {
          "base_uri": "https://localhost:8080/",
          "height": 206
        },
        "id": "HZ4ubZfjcnof",
        "outputId": "7c7aa8f8-689c-443b-e2dd-bc1044eae47b"
      },
      "execution_count": 13,
      "outputs": [
        {
          "output_type": "execute_result",
          "data": {
            "text/plain": [
              "                    datetime             tweet_id  \\\n",
              "0  2022-12-01 23:59:46+00:00  1598466920881475584   \n",
              "1  2022-12-01 23:59:45+00:00  1598466917756452867   \n",
              "2  2022-12-01 23:59:34+00:00  1598466869622628352   \n",
              "3  2022-12-01 23:59:11+00:00  1598466774135369728   \n",
              "4  2022-12-01 23:58:53+00:00  1598466695848419328   \n",
              "\n",
              "                                                text language  \\\n",
              "0  b'@EdSchramer @AndreJanonesAdv Viu o que Renan...       pt   \n",
              "1  b'@nayibbukele Ooooo drilling for more power \\...       en   \n",
              "2  b'Los NFT de Playboy Party People est\\xc3\\xa1n...       es   \n",
              "3  b'gente, cuidado pra n\\xc3\\xa3o esquecer da su...       pt   \n",
              "4  b\"\\xc2\\xabLa naturaleza aborrece el vac\\xc3\\xa...       es   \n",
              "\n",
              "                  created_at  \n",
              "0  2016-06-14 11:52:17+00:00  \n",
              "1  2017-04-09 07:10:16+00:00  \n",
              "2  2010-01-18 04:38:34+00:00  \n",
              "3  2022-06-12 01:09:13+00:00  \n",
              "4  2022-05-12 12:44:48+00:00  "
            ],
            "text/html": [
              "\n",
              "  <div id=\"df-5c502dfe-8e04-4531-a3f8-e5cd55610ec9\">\n",
              "    <div class=\"colab-df-container\">\n",
              "      <div>\n",
              "<style scoped>\n",
              "    .dataframe tbody tr th:only-of-type {\n",
              "        vertical-align: middle;\n",
              "    }\n",
              "\n",
              "    .dataframe tbody tr th {\n",
              "        vertical-align: top;\n",
              "    }\n",
              "\n",
              "    .dataframe thead th {\n",
              "        text-align: right;\n",
              "    }\n",
              "</style>\n",
              "<table border=\"1\" class=\"dataframe\">\n",
              "  <thead>\n",
              "    <tr style=\"text-align: right;\">\n",
              "      <th></th>\n",
              "      <th>datetime</th>\n",
              "      <th>tweet_id</th>\n",
              "      <th>text</th>\n",
              "      <th>language</th>\n",
              "      <th>created_at</th>\n",
              "    </tr>\n",
              "  </thead>\n",
              "  <tbody>\n",
              "    <tr>\n",
              "      <th>0</th>\n",
              "      <td>2022-12-01 23:59:46+00:00</td>\n",
              "      <td>1598466920881475584</td>\n",
              "      <td>b'@EdSchramer @AndreJanonesAdv Viu o que Renan...</td>\n",
              "      <td>pt</td>\n",
              "      <td>2016-06-14 11:52:17+00:00</td>\n",
              "    </tr>\n",
              "    <tr>\n",
              "      <th>1</th>\n",
              "      <td>2022-12-01 23:59:45+00:00</td>\n",
              "      <td>1598466917756452867</td>\n",
              "      <td>b'@nayibbukele Ooooo drilling for more power \\...</td>\n",
              "      <td>en</td>\n",
              "      <td>2017-04-09 07:10:16+00:00</td>\n",
              "    </tr>\n",
              "    <tr>\n",
              "      <th>2</th>\n",
              "      <td>2022-12-01 23:59:34+00:00</td>\n",
              "      <td>1598466869622628352</td>\n",
              "      <td>b'Los NFT de Playboy Party People est\\xc3\\xa1n...</td>\n",
              "      <td>es</td>\n",
              "      <td>2010-01-18 04:38:34+00:00</td>\n",
              "    </tr>\n",
              "    <tr>\n",
              "      <th>3</th>\n",
              "      <td>2022-12-01 23:59:11+00:00</td>\n",
              "      <td>1598466774135369728</td>\n",
              "      <td>b'gente, cuidado pra n\\xc3\\xa3o esquecer da su...</td>\n",
              "      <td>pt</td>\n",
              "      <td>2022-06-12 01:09:13+00:00</td>\n",
              "    </tr>\n",
              "    <tr>\n",
              "      <th>4</th>\n",
              "      <td>2022-12-01 23:58:53+00:00</td>\n",
              "      <td>1598466695848419328</td>\n",
              "      <td>b\"\\xc2\\xabLa naturaleza aborrece el vac\\xc3\\xa...</td>\n",
              "      <td>es</td>\n",
              "      <td>2022-05-12 12:44:48+00:00</td>\n",
              "    </tr>\n",
              "  </tbody>\n",
              "</table>\n",
              "</div>\n",
              "      <button class=\"colab-df-convert\" onclick=\"convertToInteractive('df-5c502dfe-8e04-4531-a3f8-e5cd55610ec9')\"\n",
              "              title=\"Convert this dataframe to an interactive table.\"\n",
              "              style=\"display:none;\">\n",
              "        \n",
              "  <svg xmlns=\"http://www.w3.org/2000/svg\" height=\"24px\"viewBox=\"0 0 24 24\"\n",
              "       width=\"24px\">\n",
              "    <path d=\"M0 0h24v24H0V0z\" fill=\"none\"/>\n",
              "    <path d=\"M18.56 5.44l.94 2.06.94-2.06 2.06-.94-2.06-.94-.94-2.06-.94 2.06-2.06.94zm-11 1L8.5 8.5l.94-2.06 2.06-.94-2.06-.94L8.5 2.5l-.94 2.06-2.06.94zm10 10l.94 2.06.94-2.06 2.06-.94-2.06-.94-.94-2.06-.94 2.06-2.06.94z\"/><path d=\"M17.41 7.96l-1.37-1.37c-.4-.4-.92-.59-1.43-.59-.52 0-1.04.2-1.43.59L10.3 9.45l-7.72 7.72c-.78.78-.78 2.05 0 2.83L4 21.41c.39.39.9.59 1.41.59.51 0 1.02-.2 1.41-.59l7.78-7.78 2.81-2.81c.8-.78.8-2.07 0-2.86zM5.41 20L4 18.59l7.72-7.72 1.47 1.35L5.41 20z\"/>\n",
              "  </svg>\n",
              "      </button>\n",
              "      \n",
              "  <style>\n",
              "    .colab-df-container {\n",
              "      display:flex;\n",
              "      flex-wrap:wrap;\n",
              "      gap: 12px;\n",
              "    }\n",
              "\n",
              "    .colab-df-convert {\n",
              "      background-color: #E8F0FE;\n",
              "      border: none;\n",
              "      border-radius: 50%;\n",
              "      cursor: pointer;\n",
              "      display: none;\n",
              "      fill: #1967D2;\n",
              "      height: 32px;\n",
              "      padding: 0 0 0 0;\n",
              "      width: 32px;\n",
              "    }\n",
              "\n",
              "    .colab-df-convert:hover {\n",
              "      background-color: #E2EBFA;\n",
              "      box-shadow: 0px 1px 2px rgba(60, 64, 67, 0.3), 0px 1px 3px 1px rgba(60, 64, 67, 0.15);\n",
              "      fill: #174EA6;\n",
              "    }\n",
              "\n",
              "    [theme=dark] .colab-df-convert {\n",
              "      background-color: #3B4455;\n",
              "      fill: #D2E3FC;\n",
              "    }\n",
              "\n",
              "    [theme=dark] .colab-df-convert:hover {\n",
              "      background-color: #434B5C;\n",
              "      box-shadow: 0px 1px 3px 1px rgba(0, 0, 0, 0.15);\n",
              "      filter: drop-shadow(0px 1px 2px rgba(0, 0, 0, 0.3));\n",
              "      fill: #FFFFFF;\n",
              "    }\n",
              "  </style>\n",
              "\n",
              "      <script>\n",
              "        const buttonEl =\n",
              "          document.querySelector('#df-5c502dfe-8e04-4531-a3f8-e5cd55610ec9 button.colab-df-convert');\n",
              "        buttonEl.style.display =\n",
              "          google.colab.kernel.accessAllowed ? 'block' : 'none';\n",
              "\n",
              "        async function convertToInteractive(key) {\n",
              "          const element = document.querySelector('#df-5c502dfe-8e04-4531-a3f8-e5cd55610ec9');\n",
              "          const dataTable =\n",
              "            await google.colab.kernel.invokeFunction('convertToInteractive',\n",
              "                                                     [key], {});\n",
              "          if (!dataTable) return;\n",
              "\n",
              "          const docLinkHtml = 'Like what you see? Visit the ' +\n",
              "            '<a target=\"_blank\" href=https://colab.research.google.com/notebooks/data_table.ipynb>data table notebook</a>'\n",
              "            + ' to learn more about interactive tables.';\n",
              "          element.innerHTML = '';\n",
              "          dataTable['output_type'] = 'display_data';\n",
              "          await google.colab.output.renderOutput(dataTable, element);\n",
              "          const docLink = document.createElement('div');\n",
              "          docLink.innerHTML = docLinkHtml;\n",
              "          element.appendChild(docLink);\n",
              "        }\n",
              "      </script>\n",
              "    </div>\n",
              "  </div>\n",
              "  "
            ]
          },
          "metadata": {},
          "execution_count": 13
        }
      ]
    },
    {
      "cell_type": "code",
      "source": [
        "# remove duplicatas\n",
        "df.drop_duplicates(\"tweet_id\", inplace=True)\n",
        "df.drop_duplicates(\"text\", inplace=True)\n",
        "df.shape"
      ],
      "metadata": {
        "colab": {
          "base_uri": "https://localhost:8080/"
        },
        "id": "iJtikYF3c7Vu",
        "outputId": "32c7bb03-0567-4b53-cdb2-32d7da4e46a1"
      },
      "execution_count": 15,
      "outputs": [
        {
          "output_type": "execute_result",
          "data": {
            "text/plain": [
              "(1001, 5)"
            ]
          },
          "metadata": {},
          "execution_count": 15
        }
      ]
    },
    {
      "cell_type": "code",
      "source": [
        "# transforma a coluna datetime em python datetime\n",
        "df['datetime'] = pd.to_datetime(df['datetime'])\n",
        "# ordena os dados por data\n",
        "df = df.sort_values(by=\"datetime\")\n",
        "df.head()"
      ],
      "metadata": {
        "colab": {
          "base_uri": "https://localhost:8080/",
          "height": 206
        },
        "id": "uQzMElesdL_u",
        "outputId": "407e1314-77c4-430f-9281-8f49a4cfea95"
      },
      "execution_count": 16,
      "outputs": [
        {
          "output_type": "execute_result",
          "data": {
            "text/plain": [
              "                      datetime             tweet_id  \\\n",
              "1000 2022-12-01 14:39:11+00:00  1598325845600485376   \n",
              "999  2022-12-01 14:39:49+00:00  1598326002798796801   \n",
              "998  2022-12-01 14:40:04+00:00  1598326067508420610   \n",
              "997  2022-12-01 14:40:12+00:00  1598326099670454274   \n",
              "996  2022-12-01 14:40:31+00:00  1598326179194355715   \n",
              "\n",
              "                                                   text language  \\\n",
              "1000                   b'Feio at\\xc3\\xa9 no metaverso.'       pt   \n",
              "999   b'esse bgl de metaverso no insta \\xc3\\xa9 mt c...       pt   \n",
              "998   b'o metaverso \\xc3\\xa9 legal pq eu tenho a op\\...       pt   \n",
              "997   b'\\xc2\\xbfMetaverso al alcance de ti? Conozca ...       es   \n",
              "996   b'5 tend\\xc3\\xaancias de marketing digital par...       pt   \n",
              "\n",
              "                     created_at  \n",
              "1000  2020-06-18 14:23:18+00:00  \n",
              "999   2018-04-12 21:01:30+00:00  \n",
              "998   2022-01-01 22:13:57+00:00  \n",
              "997   2021-10-05 21:18:40+00:00  \n",
              "996   2022-04-02 10:14:52+00:00  "
            ],
            "text/html": [
              "\n",
              "  <div id=\"df-142f1744-8892-4582-9604-e38fa8f4dd66\">\n",
              "    <div class=\"colab-df-container\">\n",
              "      <div>\n",
              "<style scoped>\n",
              "    .dataframe tbody tr th:only-of-type {\n",
              "        vertical-align: middle;\n",
              "    }\n",
              "\n",
              "    .dataframe tbody tr th {\n",
              "        vertical-align: top;\n",
              "    }\n",
              "\n",
              "    .dataframe thead th {\n",
              "        text-align: right;\n",
              "    }\n",
              "</style>\n",
              "<table border=\"1\" class=\"dataframe\">\n",
              "  <thead>\n",
              "    <tr style=\"text-align: right;\">\n",
              "      <th></th>\n",
              "      <th>datetime</th>\n",
              "      <th>tweet_id</th>\n",
              "      <th>text</th>\n",
              "      <th>language</th>\n",
              "      <th>created_at</th>\n",
              "    </tr>\n",
              "  </thead>\n",
              "  <tbody>\n",
              "    <tr>\n",
              "      <th>1000</th>\n",
              "      <td>2022-12-01 14:39:11+00:00</td>\n",
              "      <td>1598325845600485376</td>\n",
              "      <td>b'Feio at\\xc3\\xa9 no metaverso.'</td>\n",
              "      <td>pt</td>\n",
              "      <td>2020-06-18 14:23:18+00:00</td>\n",
              "    </tr>\n",
              "    <tr>\n",
              "      <th>999</th>\n",
              "      <td>2022-12-01 14:39:49+00:00</td>\n",
              "      <td>1598326002798796801</td>\n",
              "      <td>b'esse bgl de metaverso no insta \\xc3\\xa9 mt c...</td>\n",
              "      <td>pt</td>\n",
              "      <td>2018-04-12 21:01:30+00:00</td>\n",
              "    </tr>\n",
              "    <tr>\n",
              "      <th>998</th>\n",
              "      <td>2022-12-01 14:40:04+00:00</td>\n",
              "      <td>1598326067508420610</td>\n",
              "      <td>b'o metaverso \\xc3\\xa9 legal pq eu tenho a op\\...</td>\n",
              "      <td>pt</td>\n",
              "      <td>2022-01-01 22:13:57+00:00</td>\n",
              "    </tr>\n",
              "    <tr>\n",
              "      <th>997</th>\n",
              "      <td>2022-12-01 14:40:12+00:00</td>\n",
              "      <td>1598326099670454274</td>\n",
              "      <td>b'\\xc2\\xbfMetaverso al alcance de ti? Conozca ...</td>\n",
              "      <td>es</td>\n",
              "      <td>2021-10-05 21:18:40+00:00</td>\n",
              "    </tr>\n",
              "    <tr>\n",
              "      <th>996</th>\n",
              "      <td>2022-12-01 14:40:31+00:00</td>\n",
              "      <td>1598326179194355715</td>\n",
              "      <td>b'5 tend\\xc3\\xaancias de marketing digital par...</td>\n",
              "      <td>pt</td>\n",
              "      <td>2022-04-02 10:14:52+00:00</td>\n",
              "    </tr>\n",
              "  </tbody>\n",
              "</table>\n",
              "</div>\n",
              "      <button class=\"colab-df-convert\" onclick=\"convertToInteractive('df-142f1744-8892-4582-9604-e38fa8f4dd66')\"\n",
              "              title=\"Convert this dataframe to an interactive table.\"\n",
              "              style=\"display:none;\">\n",
              "        \n",
              "  <svg xmlns=\"http://www.w3.org/2000/svg\" height=\"24px\"viewBox=\"0 0 24 24\"\n",
              "       width=\"24px\">\n",
              "    <path d=\"M0 0h24v24H0V0z\" fill=\"none\"/>\n",
              "    <path d=\"M18.56 5.44l.94 2.06.94-2.06 2.06-.94-2.06-.94-.94-2.06-.94 2.06-2.06.94zm-11 1L8.5 8.5l.94-2.06 2.06-.94-2.06-.94L8.5 2.5l-.94 2.06-2.06.94zm10 10l.94 2.06.94-2.06 2.06-.94-2.06-.94-.94-2.06-.94 2.06-2.06.94z\"/><path d=\"M17.41 7.96l-1.37-1.37c-.4-.4-.92-.59-1.43-.59-.52 0-1.04.2-1.43.59L10.3 9.45l-7.72 7.72c-.78.78-.78 2.05 0 2.83L4 21.41c.39.39.9.59 1.41.59.51 0 1.02-.2 1.41-.59l7.78-7.78 2.81-2.81c.8-.78.8-2.07 0-2.86zM5.41 20L4 18.59l7.72-7.72 1.47 1.35L5.41 20z\"/>\n",
              "  </svg>\n",
              "      </button>\n",
              "      \n",
              "  <style>\n",
              "    .colab-df-container {\n",
              "      display:flex;\n",
              "      flex-wrap:wrap;\n",
              "      gap: 12px;\n",
              "    }\n",
              "\n",
              "    .colab-df-convert {\n",
              "      background-color: #E8F0FE;\n",
              "      border: none;\n",
              "      border-radius: 50%;\n",
              "      cursor: pointer;\n",
              "      display: none;\n",
              "      fill: #1967D2;\n",
              "      height: 32px;\n",
              "      padding: 0 0 0 0;\n",
              "      width: 32px;\n",
              "    }\n",
              "\n",
              "    .colab-df-convert:hover {\n",
              "      background-color: #E2EBFA;\n",
              "      box-shadow: 0px 1px 2px rgba(60, 64, 67, 0.3), 0px 1px 3px 1px rgba(60, 64, 67, 0.15);\n",
              "      fill: #174EA6;\n",
              "    }\n",
              "\n",
              "    [theme=dark] .colab-df-convert {\n",
              "      background-color: #3B4455;\n",
              "      fill: #D2E3FC;\n",
              "    }\n",
              "\n",
              "    [theme=dark] .colab-df-convert:hover {\n",
              "      background-color: #434B5C;\n",
              "      box-shadow: 0px 1px 3px 1px rgba(0, 0, 0, 0.15);\n",
              "      filter: drop-shadow(0px 1px 2px rgba(0, 0, 0, 0.3));\n",
              "      fill: #FFFFFF;\n",
              "    }\n",
              "  </style>\n",
              "\n",
              "      <script>\n",
              "        const buttonEl =\n",
              "          document.querySelector('#df-142f1744-8892-4582-9604-e38fa8f4dd66 button.colab-df-convert');\n",
              "        buttonEl.style.display =\n",
              "          google.colab.kernel.accessAllowed ? 'block' : 'none';\n",
              "\n",
              "        async function convertToInteractive(key) {\n",
              "          const element = document.querySelector('#df-142f1744-8892-4582-9604-e38fa8f4dd66');\n",
              "          const dataTable =\n",
              "            await google.colab.kernel.invokeFunction('convertToInteractive',\n",
              "                                                     [key], {});\n",
              "          if (!dataTable) return;\n",
              "\n",
              "          const docLinkHtml = 'Like what you see? Visit the ' +\n",
              "            '<a target=\"_blank\" href=https://colab.research.google.com/notebooks/data_table.ipynb>data table notebook</a>'\n",
              "            + ' to learn more about interactive tables.';\n",
              "          element.innerHTML = '';\n",
              "          dataTable['output_type'] = 'display_data';\n",
              "          await google.colab.output.renderOutput(dataTable, element);\n",
              "          const docLink = document.createElement('div');\n",
              "          docLink.innerHTML = docLinkHtml;\n",
              "          element.appendChild(docLink);\n",
              "        }\n",
              "      </script>\n",
              "    </div>\n",
              "  </div>\n",
              "  "
            ]
          },
          "metadata": {},
          "execution_count": 16
        }
      ]
    },
    {
      "cell_type": "code",
      "source": [
        "# transforma o texto com unicode escape para o formato unicode\n",
        "df['text'] = df.apply(lambda row: eval(row['text']).decode('utf-8'), axis=1)\n",
        "df.head()"
      ],
      "metadata": {
        "colab": {
          "base_uri": "https://localhost:8080/",
          "height": 206
        },
        "id": "xa-d1bvCdjEu",
        "outputId": "8932b328-2664-446d-fb13-8bd88b1f32cd"
      },
      "execution_count": 17,
      "outputs": [
        {
          "output_type": "execute_result",
          "data": {
            "text/plain": [
              "                      datetime             tweet_id  \\\n",
              "1000 2022-12-01 14:39:11+00:00  1598325845600485376   \n",
              "999  2022-12-01 14:39:49+00:00  1598326002798796801   \n",
              "998  2022-12-01 14:40:04+00:00  1598326067508420610   \n",
              "997  2022-12-01 14:40:12+00:00  1598326099670454274   \n",
              "996  2022-12-01 14:40:31+00:00  1598326179194355715   \n",
              "\n",
              "                                                   text language  \\\n",
              "1000                             Feio até no metaverso.       pt   \n",
              "999   esse bgl de metaverso no insta é mt coisa de t...       pt   \n",
              "998   o metaverso é legal pq eu tenho a opção de não...       pt   \n",
              "997   ¿Metaverso al alcance de ti? Conozca las múlti...       es   \n",
              "996   5 tendências de marketing digital para 2023\\n\\...       pt   \n",
              "\n",
              "                     created_at  \n",
              "1000  2020-06-18 14:23:18+00:00  \n",
              "999   2018-04-12 21:01:30+00:00  \n",
              "998   2022-01-01 22:13:57+00:00  \n",
              "997   2021-10-05 21:18:40+00:00  \n",
              "996   2022-04-02 10:14:52+00:00  "
            ],
            "text/html": [
              "\n",
              "  <div id=\"df-5a60422c-6f93-4845-83f6-eae1e9531d07\">\n",
              "    <div class=\"colab-df-container\">\n",
              "      <div>\n",
              "<style scoped>\n",
              "    .dataframe tbody tr th:only-of-type {\n",
              "        vertical-align: middle;\n",
              "    }\n",
              "\n",
              "    .dataframe tbody tr th {\n",
              "        vertical-align: top;\n",
              "    }\n",
              "\n",
              "    .dataframe thead th {\n",
              "        text-align: right;\n",
              "    }\n",
              "</style>\n",
              "<table border=\"1\" class=\"dataframe\">\n",
              "  <thead>\n",
              "    <tr style=\"text-align: right;\">\n",
              "      <th></th>\n",
              "      <th>datetime</th>\n",
              "      <th>tweet_id</th>\n",
              "      <th>text</th>\n",
              "      <th>language</th>\n",
              "      <th>created_at</th>\n",
              "    </tr>\n",
              "  </thead>\n",
              "  <tbody>\n",
              "    <tr>\n",
              "      <th>1000</th>\n",
              "      <td>2022-12-01 14:39:11+00:00</td>\n",
              "      <td>1598325845600485376</td>\n",
              "      <td>Feio até no metaverso.</td>\n",
              "      <td>pt</td>\n",
              "      <td>2020-06-18 14:23:18+00:00</td>\n",
              "    </tr>\n",
              "    <tr>\n",
              "      <th>999</th>\n",
              "      <td>2022-12-01 14:39:49+00:00</td>\n",
              "      <td>1598326002798796801</td>\n",
              "      <td>esse bgl de metaverso no insta é mt coisa de t...</td>\n",
              "      <td>pt</td>\n",
              "      <td>2018-04-12 21:01:30+00:00</td>\n",
              "    </tr>\n",
              "    <tr>\n",
              "      <th>998</th>\n",
              "      <td>2022-12-01 14:40:04+00:00</td>\n",
              "      <td>1598326067508420610</td>\n",
              "      <td>o metaverso é legal pq eu tenho a opção de não...</td>\n",
              "      <td>pt</td>\n",
              "      <td>2022-01-01 22:13:57+00:00</td>\n",
              "    </tr>\n",
              "    <tr>\n",
              "      <th>997</th>\n",
              "      <td>2022-12-01 14:40:12+00:00</td>\n",
              "      <td>1598326099670454274</td>\n",
              "      <td>¿Metaverso al alcance de ti? Conozca las múlti...</td>\n",
              "      <td>es</td>\n",
              "      <td>2021-10-05 21:18:40+00:00</td>\n",
              "    </tr>\n",
              "    <tr>\n",
              "      <th>996</th>\n",
              "      <td>2022-12-01 14:40:31+00:00</td>\n",
              "      <td>1598326179194355715</td>\n",
              "      <td>5 tendências de marketing digital para 2023\\n\\...</td>\n",
              "      <td>pt</td>\n",
              "      <td>2022-04-02 10:14:52+00:00</td>\n",
              "    </tr>\n",
              "  </tbody>\n",
              "</table>\n",
              "</div>\n",
              "      <button class=\"colab-df-convert\" onclick=\"convertToInteractive('df-5a60422c-6f93-4845-83f6-eae1e9531d07')\"\n",
              "              title=\"Convert this dataframe to an interactive table.\"\n",
              "              style=\"display:none;\">\n",
              "        \n",
              "  <svg xmlns=\"http://www.w3.org/2000/svg\" height=\"24px\"viewBox=\"0 0 24 24\"\n",
              "       width=\"24px\">\n",
              "    <path d=\"M0 0h24v24H0V0z\" fill=\"none\"/>\n",
              "    <path d=\"M18.56 5.44l.94 2.06.94-2.06 2.06-.94-2.06-.94-.94-2.06-.94 2.06-2.06.94zm-11 1L8.5 8.5l.94-2.06 2.06-.94-2.06-.94L8.5 2.5l-.94 2.06-2.06.94zm10 10l.94 2.06.94-2.06 2.06-.94-2.06-.94-.94-2.06-.94 2.06-2.06.94z\"/><path d=\"M17.41 7.96l-1.37-1.37c-.4-.4-.92-.59-1.43-.59-.52 0-1.04.2-1.43.59L10.3 9.45l-7.72 7.72c-.78.78-.78 2.05 0 2.83L4 21.41c.39.39.9.59 1.41.59.51 0 1.02-.2 1.41-.59l7.78-7.78 2.81-2.81c.8-.78.8-2.07 0-2.86zM5.41 20L4 18.59l7.72-7.72 1.47 1.35L5.41 20z\"/>\n",
              "  </svg>\n",
              "      </button>\n",
              "      \n",
              "  <style>\n",
              "    .colab-df-container {\n",
              "      display:flex;\n",
              "      flex-wrap:wrap;\n",
              "      gap: 12px;\n",
              "    }\n",
              "\n",
              "    .colab-df-convert {\n",
              "      background-color: #E8F0FE;\n",
              "      border: none;\n",
              "      border-radius: 50%;\n",
              "      cursor: pointer;\n",
              "      display: none;\n",
              "      fill: #1967D2;\n",
              "      height: 32px;\n",
              "      padding: 0 0 0 0;\n",
              "      width: 32px;\n",
              "    }\n",
              "\n",
              "    .colab-df-convert:hover {\n",
              "      background-color: #E2EBFA;\n",
              "      box-shadow: 0px 1px 2px rgba(60, 64, 67, 0.3), 0px 1px 3px 1px rgba(60, 64, 67, 0.15);\n",
              "      fill: #174EA6;\n",
              "    }\n",
              "\n",
              "    [theme=dark] .colab-df-convert {\n",
              "      background-color: #3B4455;\n",
              "      fill: #D2E3FC;\n",
              "    }\n",
              "\n",
              "    [theme=dark] .colab-df-convert:hover {\n",
              "      background-color: #434B5C;\n",
              "      box-shadow: 0px 1px 3px 1px rgba(0, 0, 0, 0.15);\n",
              "      filter: drop-shadow(0px 1px 2px rgba(0, 0, 0, 0.3));\n",
              "      fill: #FFFFFF;\n",
              "    }\n",
              "  </style>\n",
              "\n",
              "      <script>\n",
              "        const buttonEl =\n",
              "          document.querySelector('#df-5a60422c-6f93-4845-83f6-eae1e9531d07 button.colab-df-convert');\n",
              "        buttonEl.style.display =\n",
              "          google.colab.kernel.accessAllowed ? 'block' : 'none';\n",
              "\n",
              "        async function convertToInteractive(key) {\n",
              "          const element = document.querySelector('#df-5a60422c-6f93-4845-83f6-eae1e9531d07');\n",
              "          const dataTable =\n",
              "            await google.colab.kernel.invokeFunction('convertToInteractive',\n",
              "                                                     [key], {});\n",
              "          if (!dataTable) return;\n",
              "\n",
              "          const docLinkHtml = 'Like what you see? Visit the ' +\n",
              "            '<a target=\"_blank\" href=https://colab.research.google.com/notebooks/data_table.ipynb>data table notebook</a>'\n",
              "            + ' to learn more about interactive tables.';\n",
              "          element.innerHTML = '';\n",
              "          dataTable['output_type'] = 'display_data';\n",
              "          await google.colab.output.renderOutput(dataTable, element);\n",
              "          const docLink = document.createElement('div');\n",
              "          docLink.innerHTML = docLinkHtml;\n",
              "          element.appendChild(docLink);\n",
              "        }\n",
              "      </script>\n",
              "    </div>\n",
              "  </div>\n",
              "  "
            ]
          },
          "metadata": {},
          "execution_count": 17
        }
      ]
    },
    {
      "cell_type": "code",
      "source": [
        "# mostra em tela um gráfico de barras de quantidade de tweets por idioma\n",
        "df['tweet_id'].groupby(df['language']).count().plot(kind='bar', figsize=(15,10));"
      ],
      "metadata": {
        "colab": {
          "base_uri": "https://localhost:8080/",
          "height": 618
        },
        "id": "79qQPIZUdtCl",
        "outputId": "3d8a052e-f12b-49a4-aa65-dda2bce207ae"
      },
      "execution_count": 18,
      "outputs": [
        {
          "output_type": "display_data",
          "data": {
            "text/plain": [
              "<Figure size 1080x720 with 1 Axes>"
            ],
            "image/png": "[encoded data removed]"
          },
          "metadata": {
            "needs_background": "light"
          }
        }
      ]
    },
    {
      "cell_type": "markdown",
      "source": [
        "### Se caso não for rodar a tradução"
      ],
      "metadata": {
        "id": "hSEjree8xFma"
      }
    },
    {
      "cell_type": "code",
      "source": [
        "# Se necessário coletar somente tweets de um idioma específico\n",
        "df = df[df['language'] == 'pt']\n",
        "\n",
        "# mostra em tela a mudança\n",
        "df.head()"
      ],
      "metadata": {
        "id": "z_C4FHqad_-t"
      },
      "execution_count": null,
      "outputs": []
    },
    {
      "cell_type": "markdown",
      "source": [
        "# Importa bibliotecas de processamento de textos"
      ],
      "metadata": {
        "id": "RQx9cicFe1fW"
      }
    },
    {
      "cell_type": "code",
      "source": [
        "import nltk\n",
        "nltk.download('stopwords')\n",
        "nltk.download('rslp')\n",
        "nltk.download('punkt')\n",
        "nltk.download('wordnet')"
      ],
      "metadata": {
        "colab": {
          "base_uri": "https://localhost:8080/"
        },
        "id": "e3lIQztJepuH",
        "outputId": "73dac5fe-07fc-4947-97de-5972f5a887aa"
      },
      "execution_count": 34,
      "outputs": [
        {
          "output_type": "stream",
          "name": "stderr",
          "text": [
            "[nltk_data] Downloading package stopwords to /root/nltk_data...\n",
            "[nltk_data]   Unzipping corpora/stopwords.zip.\n",
            "[nltk_data] Downloading package rslp to /root/nltk_data...\n",
            "[nltk_data]   Unzipping stemmers/rslp.zip.\n",
            "[nltk_data] Downloading package punkt to /root/nltk_data...\n",
            "[nltk_data]   Unzipping tokenizers/punkt.zip.\n",
            "[nltk_data] Downloading package wordnet to /root/nltk_data...\n"
          ]
        },
        {
          "output_type": "execute_result",
          "data": {
            "text/plain": [
              "True"
            ]
          },
          "metadata": {},
          "execution_count": 34
        }
      ]
    },
    {
      "cell_type": "code",
      "source": [
        "from deep_translator import GoogleTranslator\n",
        "def translateToPortuguese(instancia):\n",
        "    translated = GoogleTranslator(source='auto', target='pt').translate(instancia)\n",
        "    return translated"
      ],
      "metadata": {
        "id": "XYdWQt5awS5T"
      },
      "execution_count": 35,
      "outputs": []
    },
    {
      "cell_type": "markdown",
      "source": [
        "### Limpa o texto"
      ],
      "metadata": {
        "id": "tYp8QVpgzHWs"
      }
    },
    {
      "cell_type": "code",
      "source": [
        "import re\n",
        "def cleanText(instancia):\n",
        "    instancia = re.sub(r\"http\\S+\", \"\", instancia).lower().replace('.','').replace(';','').replace('-','').replace(':','').replace(')','')\n",
        "    return (instancia)"
      ],
      "metadata": {
        "id": "qM54uWbPmN3K"
      },
      "execution_count": 36,
      "outputs": []
    },
    {
      "cell_type": "markdown",
      "source": [
        "### Tokenização"
      ],
      "metadata": {
        "id": "QECYpAn9zMZk"
      }
    },
    {
      "cell_type": "code",
      "source": [
        "def tokenizeText(instancia):\n",
        "    '''\n",
        "    Recebe o texto e retorna uma lista de tokens.\n",
        "    '''\n",
        "    return nltk.tokenize.TweetTokenizer().tokenize(instancia)"
      ],
      "metadata": {
        "id": "NNV8WSpLoWzI"
      },
      "execution_count": 37,
      "outputs": []
    },
    {
      "cell_type": "markdown",
      "source": [
        "### Derivação"
      ],
      "metadata": {
        "id": "_b3kUouTzTH0"
      }
    },
    {
      "cell_type": "code",
      "source": [
        "nltk.download('rslp')\n",
        "def stemText(instancia):\n",
        "    '''\n",
        "    Recebe uma lista de termos e retorna uma lista stemada.\n",
        "    '''\n",
        "    stemmer = nltk.stem.RSLPStemmer()\n",
        "    words = []\n",
        "    for w in instancia:\n",
        "        words.append(stemmer.stem(w))\n",
        "    return words"
      ],
      "metadata": {
        "colab": {
          "base_uri": "https://localhost:8080/"
        },
        "id": "MxSWxrsl83Ci",
        "outputId": "c29c2c94-84fc-42ed-f30e-fc188f3f98ab"
      },
      "execution_count": 57,
      "outputs": [
        {
          "output_type": "stream",
          "name": "stderr",
          "text": [
            "[nltk_data] Downloading package rslp to /root/nltk_data...\n",
            "[nltk_data]   Package rslp is already up-to-date!\n"
          ]
        }
      ]
    },
    {
      "cell_type": "markdown",
      "source": [
        "### Lematização"
      ],
      "metadata": {
        "id": "xeqibvBwzWBL"
      }
    },
    {
      "cell_type": "code",
      "source": [
        "import spacy\n",
        "nlp = spacy.load('pt_core_news_sm')\n",
        "def lemmatizeText(instancia):\n",
        "    palavras = []\n",
        "    instancia = \" \".join(instancia)\n",
        "    texto = nlp(instancia)\n",
        "    for p in texto:\n",
        "        palavras.append(p.lemma_)\n",
        "    return palavras"
      ],
      "metadata": {
        "id": "umv3C4mvxJHu"
      },
      "execution_count": 68,
      "outputs": []
    },
    {
      "cell_type": "markdown",
      "source": [
        "### Remoção de STOPWORDS"
      ],
      "metadata": {
        "id": "ToENXLoWzbxz"
      }
    },
    {
      "cell_type": "code",
      "source": [
        "def removeStopWords(instancia):\n",
        "    instancia = \" \".join(instancia)\n",
        "    stopwords = set(nltk.corpus.stopwords.words('portuguese'))\n",
        "    palavras = [i for i in instancia.split() if not i in stopwords]\n",
        "    return (\" \".join(palavras))"
      ],
      "metadata": {
        "id": "QqbgC6qbmIGi"
      },
      "execution_count": 73,
      "outputs": []
    },
    {
      "cell_type": "markdown",
      "source": [
        "# Processa o texto para todas as funções declaradas"
      ],
      "metadata": {
        "id": "iCPZLZwE1zoq"
      }
    },
    {
      "cell_type": "code",
      "source": [
        "df.head()"
      ],
      "metadata": {
        "colab": {
          "base_uri": "https://localhost:8080/",
          "height": 406
        },
        "id": "apGcRM2pxo4v",
        "outputId": "c0cc76ce-5a04-4b41-89ad-2dae05bead5f"
      },
      "execution_count": 78,
      "outputs": [
        {
          "output_type": "execute_result",
          "data": {
            "text/plain": [
              "                      datetime             tweet_id  \\\n",
              "1000 2022-12-01 14:39:11+00:00  1598325845600485376   \n",
              "999  2022-12-01 14:39:49+00:00  1598326002798796801   \n",
              "998  2022-12-01 14:40:04+00:00  1598326067508420610   \n",
              "997  2022-12-01 14:40:12+00:00  1598326099670454274   \n",
              "996  2022-12-01 14:40:31+00:00  1598326179194355715   \n",
              "\n",
              "                                                   text language  \\\n",
              "1000                             Feio até no metaverso.       pt   \n",
              "999   esse bgl de metaverso no insta é mt coisa de t...       pt   \n",
              "998   o metaverso é legal pq eu tenho a opção de não...       pt   \n",
              "997   Metaverso ao seu alcance? Conheça as diversas ...       es   \n",
              "996   5 tendências de marketing digital para 2023\\n\\...       pt   \n",
              "\n",
              "                     created_at  \\\n",
              "1000  2020-06-18 14:23:18+00:00   \n",
              "999   2018-04-12 21:01:30+00:00   \n",
              "998   2022-01-01 22:13:57+00:00   \n",
              "997   2021-10-05 21:18:40+00:00   \n",
              "996   2022-04-02 10:14:52+00:00   \n",
              "\n",
              "                                             clean_text  \\\n",
              "1000                              feio até no metaverso   \n",
              "999   esse bgl de metaverso no insta é mt coisa de t...   \n",
              "998   o metaverso é legal pq eu tenho a opção de não...   \n",
              "997   metaverso ao seu alcance? conheça as diversas ...   \n",
              "996   5 tendências de marketing digital para 2023\\n\\...   \n",
              "\n",
              "                                              tokenized  \\\n",
              "1000                         [feio, até, no, metaverso]   \n",
              "999   [esse, bgl, de, metaverso, no, insta, é, mt, c...   \n",
              "998   [o, metaverso, é, legal, pq, eu, tenho, a, opç...   \n",
              "997   [metaverso, ao, seu, alcance, ?, conheça, as, ...   \n",
              "996   [5, tendências, de, marketing, digital, para, ...   \n",
              "\n",
              "                                                stemmed  \\\n",
              "1000                           [fei, até, no, metavers]   \n",
              "999   [ess, bgl, de, metavers, no, inst, é, mt, cois...   \n",
              "998   [o, metavers, é, legal, pq, eu, tenh, a, opç, ...   \n",
              "997   [metavers, ao, seu, alcanc, ?, conheç, as, div...   \n",
              "996   [5, tend, de, marketing, digit, par, 2023, aju...   \n",
              "\n",
              "                                             lemmatized  \\\n",
              "1000                          [fei, até, em o, metaver]   \n",
              "999   [ess, bgl, de, metaver, em o, inst, ser, mt, c...   \n",
              "998   [o, metaver, ser, legal, pq, eu, tenh, a, opç,...   \n",
              "997   [metaver, a o, seu, alcanc, ?, conheç, o, dive...   \n",
              "996   [5, tend, de, marketing, digit, par, 2023, aju...   \n",
              "\n",
              "                                         processed_text  \n",
              "1000                                        fei metaver  \n",
              "999                 ess bgl metaver inst mt cois tio ne  \n",
              "998   metaver legal pq tenh opç exist lá difer dess ...  \n",
              "997   metaver alcanc ? conheç diver opç dracuvers pe...  \n",
              "996   5 tend marketing digit par 2023 ajud aí , seg ...  "
            ],
            "text/html": [
              "\n",
              "  <div id=\"df-8b054798-cf13-4324-8dff-8e56398880d9\">\n",
              "    <div class=\"colab-df-container\">\n",
              "      <div>\n",
              "<style scoped>\n",
              "    .dataframe tbody tr th:only-of-type {\n",
              "        vertical-align: middle;\n",
              "    }\n",
              "\n",
              "    .dataframe tbody tr th {\n",
              "        vertical-align: top;\n",
              "    }\n",
              "\n",
              "    .dataframe thead th {\n",
              "        text-align: right;\n",
              "    }\n",
              "</style>\n",
              "<table border=\"1\" class=\"dataframe\">\n",
              "  <thead>\n",
              "    <tr style=\"text-align: right;\">\n",
              "      <th></th>\n",
              "      <th>datetime</th>\n",
              "      <th>tweet_id</th>\n",
              "      <th>text</th>\n",
              "      <th>language</th>\n",
              "      <th>created_at</th>\n",
              "      <th>clean_text</th>\n",
              "      <th>tokenized</th>\n",
              "      <th>stemmed</th>\n",
              "      <th>lemmatized</th>\n",
              "      <th>processed_text</th>\n",
              "    </tr>\n",
              "  </thead>\n",
              "  <tbody>\n",
              "    <tr>\n",
              "      <th>1000</th>\n",
              "      <td>2022-12-01 14:39:11+00:00</td>\n",
              "      <td>1598325845600485376</td>\n",
              "      <td>Feio até no metaverso.</td>\n",
              "      <td>pt</td>\n",
              "      <td>2020-06-18 14:23:18+00:00</td>\n",
              "      <td>feio até no metaverso</td>\n",
              "      <td>[feio, até, no, metaverso]</td>\n",
              "      <td>[fei, até, no, metavers]</td>\n",
              "      <td>[fei, até, em o, metaver]</td>\n",
              "      <td>fei metaver</td>\n",
              "    </tr>\n",
              "    <tr>\n",
              "      <th>999</th>\n",
              "      <td>2022-12-01 14:39:49+00:00</td>\n",
              "      <td>1598326002798796801</td>\n",
              "      <td>esse bgl de metaverso no insta é mt coisa de t...</td>\n",
              "      <td>pt</td>\n",
              "      <td>2018-04-12 21:01:30+00:00</td>\n",
              "      <td>esse bgl de metaverso no insta é mt coisa de t...</td>\n",
              "      <td>[esse, bgl, de, metaverso, no, insta, é, mt, c...</td>\n",
              "      <td>[ess, bgl, de, metavers, no, inst, é, mt, cois...</td>\n",
              "      <td>[ess, bgl, de, metaver, em o, inst, ser, mt, c...</td>\n",
              "      <td>ess bgl metaver inst mt cois tio ne</td>\n",
              "    </tr>\n",
              "    <tr>\n",
              "      <th>998</th>\n",
              "      <td>2022-12-01 14:40:04+00:00</td>\n",
              "      <td>1598326067508420610</td>\n",
              "      <td>o metaverso é legal pq eu tenho a opção de não...</td>\n",
              "      <td>pt</td>\n",
              "      <td>2022-01-01 22:13:57+00:00</td>\n",
              "      <td>o metaverso é legal pq eu tenho a opção de não...</td>\n",
              "      <td>[o, metaverso, é, legal, pq, eu, tenho, a, opç...</td>\n",
              "      <td>[o, metavers, é, legal, pq, eu, tenh, a, opç, ...</td>\n",
              "      <td>[o, metaver, ser, legal, pq, eu, tenh, a, opç,...</td>\n",
              "      <td>metaver legal pq tenh opç exist lá difer dess ...</td>\n",
              "    </tr>\n",
              "    <tr>\n",
              "      <th>997</th>\n",
              "      <td>2022-12-01 14:40:12+00:00</td>\n",
              "      <td>1598326099670454274</td>\n",
              "      <td>Metaverso ao seu alcance? Conheça as diversas ...</td>\n",
              "      <td>es</td>\n",
              "      <td>2021-10-05 21:18:40+00:00</td>\n",
              "      <td>metaverso ao seu alcance? conheça as diversas ...</td>\n",
              "      <td>[metaverso, ao, seu, alcance, ?, conheça, as, ...</td>\n",
              "      <td>[metavers, ao, seu, alcanc, ?, conheç, as, div...</td>\n",
              "      <td>[metaver, a o, seu, alcanc, ?, conheç, o, dive...</td>\n",
              "      <td>metaver alcanc ? conheç diver opç dracuvers pe...</td>\n",
              "    </tr>\n",
              "    <tr>\n",
              "      <th>996</th>\n",
              "      <td>2022-12-01 14:40:31+00:00</td>\n",
              "      <td>1598326179194355715</td>\n",
              "      <td>5 tendências de marketing digital para 2023\\n\\...</td>\n",
              "      <td>pt</td>\n",
              "      <td>2022-04-02 10:14:52+00:00</td>\n",
              "      <td>5 tendências de marketing digital para 2023\\n\\...</td>\n",
              "      <td>[5, tendências, de, marketing, digital, para, ...</td>\n",
              "      <td>[5, tend, de, marketing, digit, par, 2023, aju...</td>\n",
              "      <td>[5, tend, de, marketing, digit, par, 2023, aju...</td>\n",
              "      <td>5 tend marketing digit par 2023 ajud aí , seg ...</td>\n",
              "    </tr>\n",
              "  </tbody>\n",
              "</table>\n",
              "</div>\n",
              "      <button class=\"colab-df-convert\" onclick=\"convertToInteractive('df-8b054798-cf13-4324-8dff-8e56398880d9')\"\n",
              "              title=\"Convert this dataframe to an interactive table.\"\n",
              "              style=\"display:none;\">\n",
              "        \n",
              "  <svg xmlns=\"http://www.w3.org/2000/svg\" height=\"24px\"viewBox=\"0 0 24 24\"\n",
              "       width=\"24px\">\n",
              "    <path d=\"M0 0h24v24H0V0z\" fill=\"none\"/>\n",
              "    <path d=\"M18.56 5.44l.94 2.06.94-2.06 2.06-.94-2.06-.94-.94-2.06-.94 2.06-2.06.94zm-11 1L8.5 8.5l.94-2.06 2.06-.94-2.06-.94L8.5 2.5l-.94 2.06-2.06.94zm10 10l.94 2.06.94-2.06 2.06-.94-2.06-.94-.94-2.06-.94 2.06-2.06.94z\"/><path d=\"M17.41 7.96l-1.37-1.37c-.4-.4-.92-.59-1.43-.59-.52 0-1.04.2-1.43.59L10.3 9.45l-7.72 7.72c-.78.78-.78 2.05 0 2.83L4 21.41c.39.39.9.59 1.41.59.51 0 1.02-.2 1.41-.59l7.78-7.78 2.81-2.81c.8-.78.8-2.07 0-2.86zM5.41 20L4 18.59l7.72-7.72 1.47 1.35L5.41 20z\"/>\n",
              "  </svg>\n",
              "      </button>\n",
              "      \n",
              "  <style>\n",
              "    .colab-df-container {\n",
              "      display:flex;\n",
              "      flex-wrap:wrap;\n",
              "      gap: 12px;\n",
              "    }\n",
              "\n",
              "    .colab-df-convert {\n",
              "      background-color: #E8F0FE;\n",
              "      border: none;\n",
              "      border-radius: 50%;\n",
              "      cursor: pointer;\n",
              "      display: none;\n",
              "      fill: #1967D2;\n",
              "      height: 32px;\n",
              "      padding: 0 0 0 0;\n",
              "      width: 32px;\n",
              "    }\n",
              "\n",
              "    .colab-df-convert:hover {\n",
              "      background-color: #E2EBFA;\n",
              "      box-shadow: 0px 1px 2px rgba(60, 64, 67, 0.3), 0px 1px 3px 1px rgba(60, 64, 67, 0.15);\n",
              "      fill: #174EA6;\n",
              "    }\n",
              "\n",
              "    [theme=dark] .colab-df-convert {\n",
              "      background-color: #3B4455;\n",
              "      fill: #D2E3FC;\n",
              "    }\n",
              "\n",
              "    [theme=dark] .colab-df-convert:hover {\n",
              "      background-color: #434B5C;\n",
              "      box-shadow: 0px 1px 3px 1px rgba(0, 0, 0, 0.15);\n",
              "      filter: drop-shadow(0px 1px 2px rgba(0, 0, 0, 0.3));\n",
              "      fill: #FFFFFF;\n",
              "    }\n",
              "  </style>\n",
              "\n",
              "      <script>\n",
              "        const buttonEl =\n",
              "          document.querySelector('#df-8b054798-cf13-4324-8dff-8e56398880d9 button.colab-df-convert');\n",
              "        buttonEl.style.display =\n",
              "          google.colab.kernel.accessAllowed ? 'block' : 'none';\n",
              "\n",
              "        async function convertToInteractive(key) {\n",
              "          const element = document.querySelector('#df-8b054798-cf13-4324-8dff-8e56398880d9');\n",
              "          const dataTable =\n",
              "            await google.colab.kernel.invokeFunction('convertToInteractive',\n",
              "                                                     [key], {});\n",
              "          if (!dataTable) return;\n",
              "\n",
              "          const docLinkHtml = 'Like what you see? Visit the ' +\n",
              "            '<a target=\"_blank\" href=https://colab.research.google.com/notebooks/data_table.ipynb>data table notebook</a>'\n",
              "            + ' to learn more about interactive tables.';\n",
              "          element.innerHTML = '';\n",
              "          dataTable['output_type'] = 'display_data';\n",
              "          await google.colab.output.renderOutput(dataTable, element);\n",
              "          const docLink = document.createElement('div');\n",
              "          docLink.innerHTML = docLinkHtml;\n",
              "          element.appendChild(docLink);\n",
              "        }\n",
              "      </script>\n",
              "    </div>\n",
              "  </div>\n",
              "  "
            ]
          },
          "metadata": {},
          "execution_count": 78
        }
      ]
    },
    {
      "cell_type": "code",
      "source": [
        "from tqdm import tqdm\n",
        "tqdm.pandas()"
      ],
      "metadata": {
        "id": "nqDRfBufymGZ"
      },
      "execution_count": 29,
      "outputs": []
    },
    {
      "cell_type": "code",
      "source": [
        "df['text'] = df.progress_apply(lambda row: translateToPortuguese(row['text']) if row['language'] != 'pt' else row['text'], axis=1)\n",
        "df['clean_text'] = df.progress_apply(lambda row: cleanText(row['text']), axis=1)\n",
        "df['tokenized'] = df.progress_apply(lambda row: tokenizeText(row['clean_text']), axis=1)\n",
        "df['stemmed'] = df.progress_apply(lambda row: stemText(row['tokenized']), axis=1)\n",
        "df['lemmatized'] = df.progress_apply(lambda row: lemmatizeText(row['stemmed']), axis=1)\n",
        "df['processed_text'] = df.progress_apply(lambda row: removeStopWords(row['lemmatized']), axis=1)"
      ],
      "metadata": {
        "colab": {
          "base_uri": "https://localhost:8080/"
        },
        "id": "4GFXWNj2wTCu",
        "outputId": "40a3d84b-c488-432a-ee6b-332f493680e8"
      },
      "execution_count": 77,
      "outputs": [
        {
          "output_type": "stream",
          "name": "stderr",
          "text": [
            "100%|██████████| 1001/1001 [00:00<00:00, 35676.34it/s]\n",
            "100%|██████████| 1001/1001 [00:00<00:00, 6978.49it/s]\n",
            "100%|██████████| 1001/1001 [00:01<00:00, 577.60it/s]\n",
            "100%|██████████| 1001/1001 [00:09<00:00, 109.91it/s]\n",
            "100%|██████████| 1001/1001 [00:00<00:00, 4101.99it/s]\n"
          ]
        }
      ]
    },
    {
      "cell_type": "code",
      "source": [
        "df.to_csv('/content/drive/MyDrive/Trabalho Mestrado Python/sample_collected_and_processed.csv')"
      ],
      "metadata": {
        "id": "2Tam3adcChyz"
      },
      "execution_count": 82,
      "outputs": []
    },
    {
      "cell_type": "markdown",
      "source": [
        "# **1. Importação do dicionário de tweets sobre o metaverso**\n",
        "# **2. Importação das coleções do twitter sobre o metaverso**"
      ],
      "metadata": {
        "id": "EW-ot1w5tilh"
      }
    },
    {
      "cell_type": "code",
      "source": [
        "# 1. Dicionário\n",
        "sample = pd.read_csv('/content/drive/MyDrive/Trabalho Mestrado Python/sample_translated_1000.csv')\n",
        "\n",
        "# 2. Coleção\n",
        "collected = pd.read_csv('/content/drive/MyDrive/Trabalho Mestrado Python/sample_collected_and_processed.csv')"
      ],
      "metadata": {
        "id": "sSOTKePn2Aj5"
      },
      "execution_count": 83,
      "outputs": []
    },
    {
      "cell_type": "markdown",
      "source": [
        "Neste momento, temos duas bases de dados:\n",
        "\n",
        "*   df: contendo os nossos dados coletados do twitter\n",
        "*   sample: contendo os dados rotulados que serão o nosso dicionário. Utilizaremos este para treinar o algoritmo."
      ],
      "metadata": {
        "id": "ydKuIgW_BkGv"
      }
    },
    {
      "cell_type": "code",
      "source": [
        "df.columns, sample.columns"
      ],
      "metadata": {
        "colab": {
          "base_uri": "https://localhost:8080/"
        },
        "id": "Qe5TRWXKBhxX",
        "outputId": "2bb56165-6ba5-46bd-9f71-c68e9a0c58aa"
      },
      "execution_count": 81,
      "outputs": [
        {
          "output_type": "execute_result",
          "data": {
            "text/plain": [
              "(Index(['datetime', 'tweet_id', 'text', 'language', 'created_at', 'clean_text',\n",
              "        'tokenized', 'stemmed', 'lemmatized', 'processed_text'],\n",
              "       dtype='object'),\n",
              " Index(['Unnamed: 0', 'datetime', 'text_lower', 'textblob_sentiment',\n",
              "        'portuguese_text'],\n",
              "       dtype='object'))"
            ]
          },
          "metadata": {},
          "execution_count": 81
        }
      ]
    },
    {
      "cell_type": "markdown",
      "source": [
        "# **Análise de Sentimentos**"
      ],
      "metadata": {
        "id": "cYcCo1qODtko"
      }
    },
    {
      "cell_type": "markdown",
      "source": [
        "\n",
        "\n",
        "### Importação das bibliotecas para modelagem\n",
        "\n"
      ],
      "metadata": {
        "id": "kPtxXAOmD1QP"
      }
    },
    {
      "cell_type": "code",
      "source": [
        "from nltk import word_tokenize\n",
        "import nltk\n",
        "import re\n",
        "import pandas as pd\n",
        "from sklearn.feature_extraction.text import CountVectorizer\n",
        "from sklearn.naive_bayes import MultinomialNB\n",
        "from sklearn import svm\n",
        "from sklearn import metrics\n",
        "from sklearn.model_selection import cross_val_predict"
      ],
      "metadata": {
        "id": "ZIL6gXF_CSOU"
      },
      "execution_count": 84,
      "outputs": []
    },
    {
      "cell_type": "markdown",
      "source": [
        "### Conta a quantidade de linhas no dicionário: neutros, potitivos e negativos."
      ],
      "metadata": {
        "id": "vR-QExJDENIu"
      }
    },
    {
      "cell_type": "code",
      "source": [
        "sample['textblob_sentiment'].value_counts()"
      ],
      "metadata": {
        "colab": {
          "base_uri": "https://localhost:8080/"
        },
        "id": "PIGsJoplEMc_",
        "outputId": "ba4708eb-ad5c-449b-9afa-ab59173342c4"
      },
      "execution_count": 85,
      "outputs": [
        {
          "output_type": "execute_result",
          "data": {
            "text/plain": [
              "Positive    478\n",
              "Neutral     444\n",
              "Negative     78\n",
              "Name: textblob_sentiment, dtype: int64"
            ]
          },
          "metadata": {},
          "execution_count": 85
        }
      ]
    },
    {
      "cell_type": "code",
      "source": [
        "sample['textblob_sentiment'].value_counts().plot(kind='bar')"
      ],
      "metadata": {
        "colab": {
          "base_uri": "https://localhost:8080/",
          "height": 320
        },
        "id": "0DxWp9f9EiBn",
        "outputId": "073e2010-3b11-4eca-ca19-168f460d0987"
      },
      "execution_count": 87,
      "outputs": [
        {
          "output_type": "execute_result",
          "data": {
            "text/plain": [
              "<matplotlib.axes._subplots.AxesSubplot at 0x7f3778854df0>"
            ]
          },
          "metadata": {},
          "execution_count": 87
        },
        {
          "output_type": "display_data",
          "data": {
            "text/plain": [
              "<Figure size 432x288 with 1 Axes>"
            ],
            "image/png": "[encoded data removed]"
          },
          "metadata": {
            "needs_background": "light"
          }
        }
      ]
    },
    {
      "cell_type": "markdown",
      "source": [
        "# **Separando os tweets (textos) e classes (positivo, negativo e neutro)**"
      ],
      "metadata": {
        "id": "HVMCTawlFTS1"
      }
    },
    {
      "cell_type": "code",
      "source": [
        "tweets = sample['portuguese_text']\n",
        "classes = sample['textblob_sentiment']"
      ],
      "metadata": {
        "id": "OXpCBXWaFR10"
      },
      "execution_count": 88,
      "outputs": []
    },
    {
      "cell_type": "code",
      "source": [
        "classes"
      ],
      "metadata": {
        "colab": {
          "base_uri": "https://localhost:8080/"
        },
        "id": "o_85CJ7SF8Gl",
        "outputId": "f28247e7-a5c2-4684-b2fc-dca3e5b79e4c"
      },
      "execution_count": 90,
      "outputs": [
        {
          "output_type": "execute_result",
          "data": {
            "text/plain": [
              "0       Neutral\n",
              "1      Negative\n",
              "2      Positive\n",
              "3      Positive\n",
              "4      Positive\n",
              "         ...   \n",
              "995    Positive\n",
              "996    Positive\n",
              "997    Positive\n",
              "998    Positive\n",
              "999    Positive\n",
              "Name: textblob_sentiment, Length: 1000, dtype: object"
            ]
          },
          "metadata": {},
          "execution_count": 90
        }
      ]
    },
    {
      "cell_type": "markdown",
      "source": [
        "# Preparo da Vetorização dos dados (Bag of words)"
      ],
      "metadata": {
        "id": "Cb4VOeAqGO0-"
      }
    },
    {
      "cell_type": "code",
      "source": [
        "vectorizer = CountVectorizer(analyzer=\"word\", tokenizer=nltk.tokenize.TweetTokenizer().tokenize)"
      ],
      "metadata": {
        "id": "3o_-lnYyF8qr"
      },
      "execution_count": 93,
      "outputs": []
    },
    {
      "cell_type": "markdown",
      "source": [
        "# Aplicação da vetorização nos tweets"
      ],
      "metadata": {
        "id": "uX5wwVkWHC1Q"
      }
    },
    {
      "cell_type": "code",
      "source": [
        "freq_tweets = vectorizer.fit_transform(tweets)"
      ],
      "metadata": {
        "id": "7L-vQD35G_nB"
      },
      "execution_count": 94,
      "outputs": []
    },
    {
      "cell_type": "markdown",
      "source": [
        "# Treino do Modelo (Naive Bayes)"
      ],
      "metadata": {
        "id": "p8rnPE2gHXPh"
      }
    },
    {
      "cell_type": "code",
      "source": [
        "modelo = MultinomialNB()\n",
        "modelo.fit(freq_tweets,classes)"
      ],
      "metadata": {
        "colab": {
          "base_uri": "https://localhost:8080/"
        },
        "id": "2TiUGoWbHKMZ",
        "outputId": "b3e0b856-b689-4787-c333-553d50c61cb9"
      },
      "execution_count": 95,
      "outputs": [
        {
          "output_type": "execute_result",
          "data": {
            "text/plain": [
              "MultinomialNB()"
            ]
          },
          "metadata": {},
          "execution_count": 95
        }
      ]
    },
    {
      "cell_type": "markdown",
      "source": [
        "# Contruindo os testes"
      ],
      "metadata": {
        "id": "PEL_hjbTJRSJ"
      }
    },
    {
      "cell_type": "code",
      "source": [
        "def preprocessing_entries(instancia):\n",
        "    instancia = cleanText(instancia)\n",
        "    instancia = tokenizeText(instancia)\n",
        "    instancia = stemText(instancia)\n",
        "    instancia = lemmatizeText(instancia)\n",
        "    instancia = removeStopWords(instancia)\n",
        "    return instancia"
      ],
      "metadata": {
        "id": "z69ciczDINVd"
      },
      "execution_count": 98,
      "outputs": []
    },
    {
      "cell_type": "code",
      "source": [
        "# defina instâncias de teste dentro de uma lista\n",
        "testes = [\n",
        "    'O metaverso está no início, vamos ver o que vai dar',\n",
        "    'Estou muito feliz com o metaverso, por ser uma plataforma cheia de oportunidades',\n",
        "    'Não tô gostando dessa idéia de metaverso',\n",
        "    'Estou preocupado com o metaverso no que diz respeito à segurança',\n",
        "    'Metaverso é um prodígio para o futuro'\n",
        "]"
      ],
      "metadata": {
        "id": "YRq8SIl3HkMI"
      },
      "execution_count": 104,
      "outputs": []
    },
    {
      "cell_type": "code",
      "source": [
        "testes = [preprocessing_entries(i) for i in testes]"
      ],
      "metadata": {
        "id": "drlt0GguJD-D"
      },
      "execution_count": 99,
      "outputs": []
    },
    {
      "cell_type": "code",
      "source": [
        "# transforma os testes em vetores de palavras\n",
        "freq_testes = vectorizer.transform(testes)"
      ],
      "metadata": {
        "id": "Q78GjDzZJLj_"
      },
      "execution_count": 105,
      "outputs": []
    },
    {
      "cell_type": "code",
      "source": [
        "for t, c in zip (testes,modelo.predict(freq_testes)):\n",
        "    print (t +\", \"+ c)"
      ],
      "metadata": {
        "colab": {
          "base_uri": "https://localhost:8080/"
        },
        "id": "JkGFx3HaJcmR",
        "outputId": "3ef7b2de-c802-40e4-ee4e-14f9152ec375"
      },
      "execution_count": 106,
      "outputs": [
        {
          "output_type": "stream",
          "name": "stdout",
          "text": [
            "O metaverso está no início, vamos ver o que vai dar, Positive\n",
            "Estou muito feliz com o metaverso, por ser uma plataforma cheia de oportunidades, Positive\n",
            "Não tô gostando dessa idéia de metaverso, Neutral\n",
            "Estou preocupado com o metaverso no que diz respeito à segurança, Positive\n",
            "Metaverso é um prodígio para o futuro, Positive\n"
          ]
        }
      ]
    },
    {
      "cell_type": "code",
      "source": [
        "# Probabilidades de cada classe\n",
        "print (modelo.classes_)\n",
        "modelo.predict_proba(freq_testes).round(2)"
      ],
      "metadata": {
        "colab": {
          "base_uri": "https://localhost:8080/"
        },
        "id": "yzZumSn0Jt8L",
        "outputId": "3b5fb600-8dd8-4126-b16e-f528f790aba8"
      },
      "execution_count": 107,
      "outputs": [
        {
          "output_type": "stream",
          "name": "stdout",
          "text": [
            "['Negative' 'Neutral' 'Positive']\n"
          ]
        },
        {
          "output_type": "execute_result",
          "data": {
            "text/plain": [
              "array([[0.  , 0.14, 0.86],\n",
              "       [0.  , 0.  , 1.  ],\n",
              "       [0.05, 0.58, 0.37],\n",
              "       [0.  , 0.12, 0.87],\n",
              "       [0.  , 0.14, 0.86]])"
            ]
          },
          "metadata": {},
          "execution_count": 107
        }
      ]
    },
    {
      "cell_type": "markdown",
      "source": [
        "# Criando Pipelines"
      ],
      "metadata": {
        "id": "wbCyWvKxKMIa"
      }
    },
    {
      "cell_type": "code",
      "source": [
        "from sklearn.pipeline import Pipeline"
      ],
      "metadata": {
        "id": "DAvUi_s5JuVa"
      },
      "execution_count": 108,
      "outputs": []
    },
    {
      "cell_type": "markdown",
      "source": [
        "### Pipeline com Naive Bayes"
      ],
      "metadata": {
        "id": "jT0UYfoELHf9"
      }
    },
    {
      "cell_type": "code",
      "source": [
        "pipeline_naive_bayes = Pipeline([\n",
        "  ('counts', CountVectorizer()),\n",
        "  ('classifier', MultinomialNB())\n",
        "])"
      ],
      "metadata": {
        "id": "o5_oiUwmKvMJ"
      },
      "execution_count": 130,
      "outputs": []
    },
    {
      "cell_type": "markdown",
      "source": [
        "### Pipeline com SVM"
      ],
      "metadata": {
        "id": "1w7zJ0ggO_nt"
      }
    },
    {
      "cell_type": "code",
      "source": [
        "pipeline_SVM = Pipeline([\n",
        "  ('counts', CountVectorizer()),\n",
        "  ('classifier', svm.SVC(kernel='linear'))\n",
        "])"
      ],
      "metadata": {
        "id": "wrKHbIl0LS6H"
      },
      "execution_count": 131,
      "outputs": []
    },
    {
      "cell_type": "markdown",
      "source": [
        "# Validando Modelos com Validação Cruzada Naive Bayes:"
      ],
      "metadata": {
        "id": "7wnZD55zLmb7"
      }
    },
    {
      "cell_type": "markdown",
      "source": [
        "### Cross-validation do Modelo Naive Bayes"
      ],
      "metadata": {
        "id": "5ogn6LWrL96I"
      }
    },
    {
      "cell_type": "code",
      "source": [
        "resultados = cross_val_predict(pipeline_naive_bayes, tweets, classes, cv=10)"
      ],
      "metadata": {
        "id": "8CG98VacLiSV"
      },
      "execution_count": 132,
      "outputs": []
    },
    {
      "cell_type": "markdown",
      "source": [
        "### Acurácia do Modelo Naive Bayes"
      ],
      "metadata": {
        "id": "nJQGZzKwMIAt"
      }
    },
    {
      "cell_type": "code",
      "source": [
        "metrics.accuracy_score(classes,resultados)"
      ],
      "metadata": {
        "colab": {
          "base_uri": "https://localhost:8080/"
        },
        "id": "Oc91lqBvMPil",
        "outputId": "bbb2e3d9-23f9-4d20-a0e3-57826cee4fc5"
      },
      "execution_count": 133,
      "outputs": [
        {
          "output_type": "execute_result",
          "data": {
            "text/plain": [
              "0.607"
            ]
          },
          "metadata": {},
          "execution_count": 133
        }
      ]
    },
    {
      "cell_type": "markdown",
      "source": [
        "Accuracy Score: 60,7%"
      ],
      "metadata": {
        "id": "zT9xVie0MWW3"
      }
    },
    {
      "cell_type": "markdown",
      "source": [
        "### Medidas de Validação do Modelo"
      ],
      "metadata": {
        "id": "FGcdsuPmMgq2"
      }
    },
    {
      "cell_type": "code",
      "source": [
        "print(metrics.classification_report(classes,resultados))"
      ],
      "metadata": {
        "colab": {
          "base_uri": "https://localhost:8080/"
        },
        "id": "TdCpNbHAMav8",
        "outputId": "1ea36c82-beb3-465c-bab8-a035ae31b44f"
      },
      "execution_count": 134,
      "outputs": [
        {
          "output_type": "stream",
          "name": "stdout",
          "text": [
            "              precision    recall  f1-score   support\n",
            "\n",
            "    Negative       1.00      0.01      0.03        78\n",
            "     Neutral       0.74      0.39      0.51       444\n",
            "    Positive       0.57      0.90      0.70       478\n",
            "\n",
            "    accuracy                           0.61      1000\n",
            "   macro avg       0.77      0.44      0.41      1000\n",
            "weighted avg       0.68      0.61      0.56      1000\n",
            "\n"
          ]
        }
      ]
    },
    {
      "cell_type": "markdown",
      "source": [
        "### Matriz de Confusão"
      ],
      "metadata": {
        "id": "FbkXbJyiNtXk"
      }
    },
    {
      "cell_type": "code",
      "source": [
        "print (pd.crosstab(classes, resultados, rownames=['Real'], colnames=['Predito'], margins=True))"
      ],
      "metadata": {
        "colab": {
          "base_uri": "https://localhost:8080/"
        },
        "id": "lqCWZLi-NLZ3",
        "outputId": "42c2df4f-6c75-411d-8ea3-ee64f40c127d"
      },
      "execution_count": 135,
      "outputs": [
        {
          "output_type": "stream",
          "name": "stdout",
          "text": [
            "Predito   Negative  Neutral  Positive   All\n",
            "Real                                       \n",
            "Negative         1       15        62    78\n",
            "Neutral          0      175       269   444\n",
            "Positive         0       47       431   478\n",
            "All              1      237       762  1000\n"
          ]
        }
      ]
    },
    {
      "cell_type": "markdown",
      "source": [
        "# Validando Modelos com Validação Cruzada SVM:"
      ],
      "metadata": {
        "id": "-OkwQb8kOVgw"
      }
    },
    {
      "cell_type": "markdown",
      "source": [
        "### Cross-validation do Modelo Naive Bayes"
      ],
      "metadata": {
        "id": "J4cLEC0_Ohio"
      }
    },
    {
      "cell_type": "code",
      "source": [
        "resultados = cross_val_predict(pipeline_SVM, tweets, classes, cv=10)"
      ],
      "metadata": {
        "id": "2cgnXmUqOUy4"
      },
      "execution_count": 136,
      "outputs": []
    },
    {
      "cell_type": "markdown",
      "source": [
        "### Acurácia do Modelo Naive Bayes"
      ],
      "metadata": {
        "id": "qiumRt2tOsuu"
      }
    },
    {
      "cell_type": "code",
      "source": [
        "metrics.accuracy_score(classes,resultados)"
      ],
      "metadata": {
        "colab": {
          "base_uri": "https://localhost:8080/"
        },
        "id": "QDOr-xtdOjgg",
        "outputId": "0dcfd7f7-e995-459c-8461-f83f3fa29b15"
      },
      "execution_count": 137,
      "outputs": [
        {
          "output_type": "execute_result",
          "data": {
            "text/plain": [
              "0.665"
            ]
          },
          "metadata": {},
          "execution_count": 137
        }
      ]
    },
    {
      "cell_type": "markdown",
      "source": [
        "Accuracy Score: 66,5%"
      ],
      "metadata": {
        "id": "mccxfHwrO24A"
      }
    },
    {
      "cell_type": "markdown",
      "source": [
        "### Medidas de Validação do Modelo"
      ],
      "metadata": {
        "id": "LMY7haigPF90"
      }
    },
    {
      "cell_type": "code",
      "source": [
        "print(metrics.classification_report(classes,resultados))"
      ],
      "metadata": {
        "colab": {
          "base_uri": "https://localhost:8080/"
        },
        "id": "euBRAmszOwTG",
        "outputId": "40250579-0615-45b3-c746-b1f51e671cd6"
      },
      "execution_count": 138,
      "outputs": [
        {
          "output_type": "stream",
          "name": "stdout",
          "text": [
            "              precision    recall  f1-score   support\n",
            "\n",
            "    Negative       0.10      0.04      0.06        78\n",
            "     Neutral       0.66      0.76      0.70       444\n",
            "    Positive       0.71      0.68      0.70       478\n",
            "\n",
            "    accuracy                           0.67      1000\n",
            "   macro avg       0.49      0.49      0.49      1000\n",
            "weighted avg       0.64      0.67      0.65      1000\n",
            "\n"
          ]
        }
      ]
    },
    {
      "cell_type": "markdown",
      "source": [
        "### Matriz de Confusão"
      ],
      "metadata": {
        "id": "DDHjuzzpPUzE"
      }
    },
    {
      "cell_type": "code",
      "source": [
        "print (pd.crosstab(classes, resultados, rownames=['Real'], colnames=['Predito'], margins=True))"
      ],
      "metadata": {
        "colab": {
          "base_uri": "https://localhost:8080/"
        },
        "id": "hu0ugQA0PK1k",
        "outputId": "982e0e47-bae5-4b78-bcdb-c500a5fab5e2"
      },
      "execution_count": 139,
      "outputs": [
        {
          "output_type": "stream",
          "name": "stdout",
          "text": [
            "Predito   Negative  Neutral  Positive   All\n",
            "Real                                       \n",
            "Negative         3       40        35    78\n",
            "Neutral         11      338        95   444\n",
            "Positive        17      137       324   478\n",
            "All             31      515       454  1000\n"
          ]
        }
      ]
    },
    {
      "cell_type": "markdown",
      "source": [
        "Observação:\n",
        "\n",
        "*   O modelo SVM separa melhor os valores sentimentos neutros dos positivos\n",
        "\n"
      ],
      "metadata": {
        "id": "qdLs8e-bQVdn"
      }
    }
  ]
}